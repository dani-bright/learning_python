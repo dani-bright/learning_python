{
 "cells": [
  {
   "cell_type": "markdown",
   "metadata": {
    "colab_type": "text",
    "id": "5IBkWv8KdZ0W"
   },
   "source": [
    "# Introduction\n",
    "\n",
    "\n",
    "\n",
    "En Python, à ce stade, nous allons supposer que vous connaissez les bases du langage ainsi que celles des structures de données. Si ce n'est pas le cas je vous renvoie vers le cours *Introduction au python* à la racine. \n",
    "\n",
    "\n"
   ]
  },
  {
   "cell_type": "markdown",
   "metadata": {
    "colab_type": "text",
    "id": "Mpci0VhGdZ0Z"
   },
   "source": [
    "## Rappels sur la POO\n",
    "\n",
    "La programmation orienté objet, c’est un style de programmation qui permet de regrouper au même endroit le comportement (les fonctions) et les données (les structures) qui sont faites pour aller ensemble.\n",
    "\n",
    "C’est tout. C’est finalement une simple question d’organisation du programme.\n",
    "\n",
    "### Les objets \n",
    "\n",
    "Un objet c'est un… truc. Un machin. Un bidule.\n",
    "\n",
    "Ça peut vous paraître une définition floue, mais c’est parce que c’est exactement ce que peut être un objet: n’importe quoi que vous décidiez de coder. L’objet est un moyen de dire à la machine : “ce *< entrez_ici_un_nom_de_truc > *possède telle donnée, et fait telle chose avec”.\n",
    "\n",
    "Vous le savez, en python absolument tout est un objet ! Une chaîne, un entier, un dictionnaire, une liste, une fonction… Vous avez donc manipulé des objets sans le savoir. Maintenant vous allez créer les vôtres.\n",
    "\n",
    "Créer des objets se fait en deux étapes: décrire à quoi ressemble votre objet, et demander à l’ordinateur d’utiliser cette description pour le fabriquer.\n",
    "\n",
    "Voici un petit exemple simple. "
   ]
  },
  {
   "cell_type": "code",
   "execution_count": 0,
   "metadata": {
    "colab": {},
    "colab_type": "code",
    "id": "7D13dCLDdZ0b"
   },
   "outputs": [],
   "source": [
    "class DescriptionDeLObject : \n",
    "    pass"
   ]
  },
  {
   "cell_type": "code",
   "execution_count": 0,
   "metadata": {
    "colab": {},
    "colab_type": "code",
    "id": "jXB5VLi2dZ1I",
    "outputId": "067f9851-1510-4cd4-eff8-c4550e27447c"
   },
   "outputs": [
    {
     "name": "stdout",
     "output_type": "stream",
     "text": [
      "<__main__.DescriptionDeLObject object at 0x104b71828>\n"
     ]
    }
   ],
   "source": [
    "#on déclare cet objet afin de l'utiliser\n",
    "MonObjet = DescriptionDeLObject() \n",
    "#on l'affiche \n",
    "print(MonObjet)"
   ]
  },
  {
   "cell_type": "markdown",
   "metadata": {
    "colab_type": "text",
    "id": "GplznSufdZ1x"
   },
   "source": [
    "C'est ce qu’on appelle une classe. **La classe est le moyen, en Python, de décrire à quoi va ressembler un objet.**\n",
    "\n",
    "\n",
    "```DescriptionDeLObject()``` \n",
    "**(notez les parenthèses)**, est la syntaxe Python pour dire “fabrique un objet à partir de ce plan”. Le nouvel objet va être retourné, et mis dans la variable *MonObjet* . "
   ]
  },
  {
   "cell_type": "markdown",
   "metadata": {
    "colab_type": "text",
    "id": "20FWRjqpdZ1y"
   },
   "source": [
    "### Les méthodes \n",
    "\n",
    "Les méthodes sont des fonctions déclarées à l’intérieur de la classe. Méthode est juste un nom pour dire “cette fonction est dans une classe”. On va maintenant créer une méthode très simple. "
   ]
  },
  {
   "cell_type": "code",
   "execution_count": 0,
   "metadata": {
    "colab": {},
    "colab_type": "code",
    "id": "XSt-hk9edZ1z"
   },
   "outputs": [],
   "source": [
    "class DescriptionDeLObject :\n",
    "    #une méthode est une fonction qu'on définie tel que : \n",
    "    def la_methode(objet_en_cours):\n",
    "        print(\"Ceci est une méthode sur un objet : 'tada' \")"
   ]
  },
  {
   "cell_type": "code",
   "execution_count": 0,
   "metadata": {
    "colab": {},
    "colab_type": "code",
    "id": "0_7y9RGHdZ19",
    "outputId": "3b711d27-a47d-46e5-a6b2-1d5836972ff1"
   },
   "outputs": [
    {
     "name": "stdout",
     "output_type": "stream",
     "text": [
      "Ceci est une méthode sur un objet : 'tada' \n"
     ]
    }
   ],
   "source": [
    "#on redéfinit la variable MonObjet \n",
    "MonObjet = DescriptionDeLObject() \n",
    "#on peut maintenant appeler la méthode de notre objet \n",
    "MonObjet.la_methode()"
   ]
  },
  {
   "cell_type": "markdown",
   "metadata": {
    "colab_type": "text",
    "id": "0EjE1p4ldZ2T"
   },
   "source": [
    "Vous devez vous demander *“quel est ce objet_en_cours”* qui est défini comme paramètre de la méthode ?\n",
    "\n",
    "C’est une spécificité de Python : quand vous appelez une méthode depuis un objet, l’objet est automatiquement passé en premier paramètre par Python. C’est automatique, et invisible.\n",
    "\n",
    "C’est très facile à comprendre en faisant une méthode qui retourne ```objet_en_cours``` pour voir ce qu’il y a dedans :"
   ]
  },
  {
   "cell_type": "code",
   "execution_count": 0,
   "metadata": {
    "colab": {},
    "colab_type": "code",
    "id": "ghrwsiKCdZ2U"
   },
   "outputs": [],
   "source": [
    "class DescriptionDeLObjectBis : \n",
    "    def une_methode(objet_en_cours):\n",
    "        return objet_en_cours"
   ]
  },
  {
   "cell_type": "code",
   "execution_count": 0,
   "metadata": {
    "colab": {},
    "colab_type": "code",
    "id": "QvXHgRmHdZ2m",
    "outputId": "54037fa0-f9f8-4955-9cf8-790e7427dbbc"
   },
   "outputs": [
    {
     "data": {
      "text/plain": [
       "<__main__.DescriptionDeLObjectBis at 0x104c6bac8>"
      ]
     },
     "execution_count": 11,
     "metadata": {
      "tags": []
     },
     "output_type": "execute_result"
    }
   ],
   "source": [
    "ObjetBis = DescriptionDeLObjectBis() \n",
    "ObjetBis.une_methode() "
   ]
  },
  {
   "cell_type": "markdown",
   "metadata": {
    "colab_type": "text",
    "id": "mrCVdiz1dZ2y"
   },
   "source": [
    "### Les conventions \n",
    "\n",
    "En Python, peu de choses sont forcées. La plupart des choses sont des conventions. Mais ce sont des conventions fortes, les gens y tiennent.\n",
    "\n",
    "Parmi ces conventions, il y a les conventions de nommage, à savoir:\n",
    "- on nomme les classes sans espace, avec des majuscules : NomDUneClasse\n",
    "- on nomme le reste en minuscule avec des underscores : nom_de_methode, nom_d_attribut, etc\n",
    "\n",
    "La convention la plus surprenante est celle du premier paramètre des méthodes qui contient *l’objet en cours*. Son nom n’est pas forcé, contrairement aux autres langages (comme this en Java par exemple), en fait c’est un paramètre tout à faire ordinaire. Néanmoins, la (très très forte) convention est de l’appeler ```self``` "
   ]
  },
  {
   "cell_type": "code",
   "execution_count": 2,
   "metadata": {
    "colab": {},
    "colab_type": "code",
    "id": "ZtmWdQ5NdZ2z",
    "outputId": "1778aa62-4fe5-42f9-e5bd-f06dcdb86f19"
   },
   "outputs": [
    {
     "name": "stdout",
     "output_type": "stream",
     "text": [
      "un truc\n"
     ]
    }
   ],
   "source": [
    "class UneClasse : \n",
    "    def methode(self): \n",
    "        print('un truc')\n",
    "        \n",
    "ex = UneClasse()\n",
    "ex.methode() "
   ]
  },
  {
   "cell_type": "markdown",
   "metadata": {
    "colab_type": "text",
    "id": "nPk29Ac6dZ25"
   },
   "source": [
    "Enfin, les concepteurs de Python ont ajouté une convention supplémentaire : les méthodes appelées automatiquement dites méthodes spéciales sont appelées ```__nom_de_methode__``` (avec deux underscores de chaque côté)."
   ]
  },
  {
   "cell_type": "markdown",
   "metadata": {
    "colab_type": "text",
    "id": "vdxmFikmdZ26"
   },
   "source": [
    "### L'initialisation des objets \n",
    "\n",
    "On souhaite généralement donner un état de départ à tout nouvel objet créé. Par exemple, si vous travaillez sur un jeu vidéo de course de voitures, vous voudrez peut-être créer un objet voiture avec du carburant et une couleur de peinture.\n",
    "\n",
    "Il serait contre productif de devoir les spécifier à chaque fois. Pour automatiser le travail, Python met à disposition des méthodes appelées automatiquement quand une condition est remplie. Ce sont **les fameuses méthodes spéciales nommées __methode__**.\n",
    "\n",
    "Dans notre cas, on veut que notre objet ait un état de départ, donc on va utiliser la méthode qui est appelée automatiquement après la création de l’objet. C’est la méthode ```__init__```."
   ]
  },
  {
   "cell_type": "code",
   "execution_count": 1,
   "metadata": {
    "colab": {},
    "colab_type": "code",
    "id": "XbxnK743dZ27",
    "outputId": "0af16aa4-2b92-4f10-cee5-660f310be76f"
   },
   "outputs": [
    {
     "name": "stdout",
     "output_type": "stream",
     "text": [
      "L'objet à bien été crée !\n",
      "La méthode est appelé automatiquement à la déclaration de l'objet\n"
     ]
    }
   ],
   "source": [
    "class UneAutreClass : \n",
    "    def __init__(self) :\n",
    "        print(\"L'objet à bien été crée !\")\n",
    "        print(\"La méthode est appelé automatiquement à la déclaration de l'objet\")\n",
    "\n",
    "x = UneAutreClass()"
   ]
  },
  {
   "cell_type": "markdown",
   "metadata": {
    "colab_type": "text",
    "id": "aee_oUXadZ3K"
   },
   "source": [
    "## Exercices\n",
    "\n",
    "\n",
    "### Le compte bancaire\n",
    "\n",
    "Écrire un programme python qui permet de définir une classe CompteBancaire(), qui permette d’instancier des objets tels que compte1, compte2, etc. Le constructeur de cette classe initialisera deux attributs d’instance nom et solde, avec les valeurs par défaut ’Dupont’ et 1000.\n",
    "\n",
    "Trois autres méthodes seront définies :\n",
    "\n",
    "- depot(somme) permettra d’ajouter une certaine somme au solde ;\n",
    "- retrait(somme) permettra de retirer une certaine somme du solde ;\n",
    "- affiche() permettra d’afficher le nom du titulaire et le solde de son compte.\n",
    "\n",
    "\n",
    "\n",
    "Exemples d’exécution:\n",
    "```\n",
    ">>> compte1 = CompteBancaire(‘Duchmol’, 800)\n",
    ">>> compte1.depot(350)\n",
    ">>> compte1.retrait(200)\n",
    ">>> compte1.affiche()\n",
    "Le solde du compte bancaire de Duchmol est de 950 euros.\n",
    ">>> compte2 = CompteBancaire()\n",
    ">>> compte2.depot(25)\n",
    ">>> compte2.affiche()\n",
    "Le solde du compte bancaire de Dupont est de 1025 euros.\n",
    "\n",
    "```\n",
    "\n",
    "\n",
    "### La surcharge d'opérateur \n",
    "\n",
    "Définir une classe Point avec un constructeur, un point est définit soit par deux coordonnées x et y, s’il s’agit d’une représentation d’un point au plan ou par trois coordonnées x, y et z, s’il s’agit d’une représentation d’un point en espace.\n",
    "\n",
    "La classe Point doit contenir une méthode ToString qui affiche le point.\n",
    "\n",
    "Exemple d’exécution:\n",
    "```\n",
    ">>>P1=Point(2,3)\n",
    ">>>P1.ToString()\n",
    "P(2.00 , 3.00)\n",
    ">>>P2=Point(1,-5,6)\n",
    ">>>P2.ToString()\n",
    "P(1.00 , -5.00 , 6.00)\n",
    "```\n",
    "\n",
    "\n",
    "### L'héritage simple\n",
    "\n",
    "Définir les classes suivantes:\n",
    "\n",
    "- Une classe DateNaissance avec trois attributs, jour, mois, année et une méthode ToString qui convertit la date de naissance en chaine de caractères\n",
    "- Une classe Personne  avec trois attributs, nom, prénom et date de naissance et une méthode polymorphe Afficher pour afficher les données de chaque personne.\n",
    "- Une classe Employé qui dérive de la classe Personne, avec en plus un attribut Salaire et la redéfinition de la méthode Afficher.\n",
    "- Une classe Chef qui dérive de la classe Employé, avec en plus un attribut Service et la redéfinition de la méthode Afficher.\n",
    "\n",
    "Exemple d’exécution:\n",
    "\n",
    "```\n",
    ">>>P=personne(“Ilyass”,”Math”,DateNaissance(1,7,1982))\n",
    ">>>P.afficher()\n",
    "Nom: Ilyass \n",
    "Prénom: Math\n",
    "Date de naissance: 01 / 07 / 1982\n",
    "\n",
    ">>>E=employe(“Ilyass”,”Math”,DateNaissance(1,7,1985),7865.548)\n",
    ">>>E.afficher()\n",
    "Nom: Ilyass \n",
    "Prénom: Math\n",
    "Date de naissance: 01 / 07 / 1985\n",
    "Salaire: 7865.55\n",
    "\n",
    ">>>Ch=chef(“Ilyass”,”Math”,DateNaissance(1,7,1988),7865.548,”Ressource humaine”)\n",
    ">>>Ch.afficher()\n",
    "Nom: Ilyass \n",
    "Prénom: Math\n",
    "Date de naissance: 01 / 07 / 1988\n",
    "Salaire: 7865.55\n",
    "Service: Ressource humaine\n",
    "```\n"
   ]
  },
  {
   "cell_type": "code",
   "execution_count": 29,
   "metadata": {},
   "outputs": [
    {
     "name": "stdout",
     "output_type": "stream",
     "text": [
      "Bonjour Dupont, vous disposez de 2500\n"
     ]
    }
   ],
   "source": [
    "class BankAccount:\n",
    "    def __init__(self):\n",
    "        self.name = \"Dupont\"\n",
    "        self.amount = 1000\n",
    "        \n",
    "        \n",
    "    def deposit(self, amount):\n",
    "        self.amount=self.amount + amount\n",
    "    \n",
    "    def withdrawal(self, amount):\n",
    "        self.amount =self.amount -amount\n",
    "    \n",
    "    def printAmount(self):\n",
    "        print(\"Bonjour \"+self.name+\", vous disposez de \" + str(self.amount))\n",
    "              \n",
    "daniAccount=BankAccount()\n",
    "daniAccount.deposit(1000)\n",
    "daniAccount.withdrawal(500)\n",
    "daniAccount.deposit(1000)\n",
    "daniAccount.printAmount()"
   ]
  },
  {
   "cell_type": "code",
   "execution_count": 42,
   "metadata": {
    "colab": {},
    "colab_type": "code",
    "id": "mPlXRZqdpi5_"
   },
   "outputs": [
    {
     "name": "stdout",
     "output_type": "stream",
     "text": [
      "P(5.00 , 6.00)\n",
      "P(5.00 , 6.00 , 7.00)\n"
     ]
    }
   ],
   "source": [
    "class Point:\n",
    "        \n",
    "    def __init__(self,x,y,z=None):\n",
    "        self.x =x \n",
    "        self.y =y\n",
    "        self.z =z \n",
    "        \n",
    "    def toString(self):\n",
    "        if self.z is None:\n",
    "            print(\"P(\"+ \"%.2f\" %self.x+\" , \" + \"%.2f\" %self.y + \")\")\n",
    "        else :\n",
    "            print(\"P(\"+ \"%.2f\" %self.x+\" , \" + \"%.2f\" %self.y + \" , \" + \"%.2f\" % self.z +\")\")\n",
    "        \n",
    "    \n",
    "              \n",
    "p1=Point(5,6)\n",
    "p1.toString()\n",
    "\n",
    "p2=Point(5,6,7)\n",
    "p2.toString()\n"
   ]
  },
  {
   "cell_type": "code",
   "execution_count": 81,
   "metadata": {},
   "outputs": [
    {
     "name": "stdout",
     "output_type": "stream",
     "text": [
      "nom: Math\n",
      "prenom: Ilyass\n",
      "date de naissance: 1/7/1982\n",
      "\n",
      "nom: Math\n",
      "prenom: Ilyass\n",
      "date de naissance: 1/7/1982\n",
      "salaire: 2000.56\n",
      "\n",
      "nom: Math\n",
      "prenom: Ilyass\n",
      "date de naissance: 1/7/1982\n",
      "salaire: 10000.56\n",
      "service: Patron\n"
     ]
    }
   ],
   "source": [
    "class BirthDate:\n",
    "    def __init__(self,day,month,year):\n",
    "        self.day =day\n",
    "        self.month = month\n",
    "        self.year= year   \n",
    "        \n",
    "    def toString(self):\n",
    "        return str(self.day)+\"/\"+ str(self.month)+\"/\"+str(self.year)\n",
    "\n",
    "class Person:\n",
    "    def __init__(self,firstname,lastName,birthDate):\n",
    "        self.firstname =firstname\n",
    "        self.lastname = lastName\n",
    "        self.birthDate= birthDate   \n",
    "        \n",
    "    def display(self):\n",
    "        print(\"nom: \" + self.lastname+ \"\\n\"+\n",
    "              \"prenom: \" + self.firstname+\"\\n\"+\n",
    "              \"date de naissance: \" + self.birthDate+\"\\n\")\n",
    "        \n",
    "class Employee(Person):\n",
    "    def __init__(self,firstname,lastName,birthDate, salary):\n",
    "        Person.__init__(self, firstname,lastName,birthDate)\n",
    "        self.salary =salary\n",
    "    \n",
    "    def display(self):\n",
    "         print(\"nom: \" + self.lastname+ \"\\n\"+\n",
    "              \"prenom: \" + self.firstname+\"\\n\"+\n",
    "              \"date de naissance: \" + self.birthDate+\"\\n\"+\n",
    "              \"salaire: \" + str(round(self.salary,2))+\"\\n\")\n",
    "        \n",
    "class Chief(Employee):\n",
    "    def __init__(self,firstname,lastName,birthDate, salary, service):\n",
    "        Employee.__init__(self, firstname,lastName,birthDate, salary)\n",
    "        self.service =service\n",
    "    \n",
    "    def display(self):\n",
    "        print(\"nom: \" + self.lastname+ \"\\n\"+\n",
    "              \"prenom: \" + self.firstname+\"\\n\"+\n",
    "              \"date de naissance: \" + self.birthDate+\"\\n\"+\n",
    "              \"salaire: \" + str(round(self.salary,2))+\"\\n\"+\n",
    "              \"service: \" + self.service)\n",
    "        \n",
    "P=Person(\"Ilyass\",\"Math\",BirthDate(1,7,1982).toString())\n",
    "P.display()\n",
    "\n",
    "E=Employee(\"Ilyass\",\"Math\",BirthDate(1,7,1982).toString(), 2000.55547)\n",
    "E.display()\n",
    "\n",
    "C=Chief(\"Ilyass\",\"Math\",BirthDate(1,7,1982).toString(), 10000.55547, \"Patron\")\n",
    "C.display()"
   ]
  },
  {
   "cell_type": "markdown",
   "metadata": {
    "colab_type": "text",
    "id": "zK9TRsq5dZ3K"
   },
   "source": [
    "## Exercice sur le polymorphisme\n",
    "\n",
    "### Consignes \n",
    "\n",
    "Une boîtes aux lettres recueille des courrier qui peuvent être des lettres ou des colis.\n",
    "\n",
    "Une lettre est caractérisée par :\n",
    "\n",
    "son poids (en grammes)\n",
    "le mode d’expédition (express ou normal)\n",
    "son adresse de destination\n",
    "son adresse d’expédition\n",
    "son format (“A3” ou “A4”)\n",
    "\n",
    "Un colis est caractérisé par :\n",
    "\n",
    "son poids (en grammes)\n",
    "le mode d’expédition (express ou normal)\n",
    "son adresse de destination\n",
    "son adresse d’expédition\n",
    "son volume (en litres )\n",
    "Il faut donc définir aussi les deux méthodes:\n",
    "\n",
    "calculTimbre: qui calcule le prix du Timbre\n",
    "ToString qui affiche un courrier\n",
    "Règles pour calculer le prix du Timbre :\n",
    "\n",
    "en mode d’expédition normal :\n",
    "\n",
    "Le montant nécessaire pour affranchir une lettre dépend de son format et de son poids : Formule : montant = tarif de base + 1.0 * poids (kilos), où le tarif de base pour une lettre “A4” est de 2.50, et 3.50 pour une lettre “A3”\n",
    "\n",
    "Le montant nécessaire pour affranchir un colis dépend de son poids et de son volume : Formule : montant = 0.25 volume (litres) * poids (kilos) 1.0\n",
    "\n",
    "en mode d’expédition express : les montants précédents sont doublés, quelque soit le type de courrier\n",
    "\n",
    "### Exemple d’exécution :\n",
    "```\n",
    ">>>L1=Lettre(“Lille”,”Paris”,80,”normal”,”A4″)\n",
    ">>>L1.ToString()\n",
    "Lettre:\n",
    "Adresse destination: Lille \n",
    "Adress expedition: Paris\n",
    "Poids: 80.00 grammes\n",
    "Mode: normal \n",
    "Format:A4\n",
    "Prix du timbre:0.20\n",
    ">>>C1=Colis(“Marrakeche”,”Barcelone “,3500,”expresse”,2.25)\n",
    ">>>C1.ToString()\n",
    "Collis:\n",
    "Adresse destination: Marrakeche \n",
    "Adress expedition: Barcelone \n",
    "Poids: 3500.00 grammes\n",
    "Mode: expresse \n",
    "Volume: 2.25 litres\n",
    "Prix du timbre:3.93750\n",
    "```"
   ]
  },
  {
   "cell_type": "code",
   "execution_count": 105,
   "metadata": {
    "colab": {},
    "colab_type": "code",
    "id": "Ukho97GddZ3L"
   },
   "outputs": [
    {
     "name": "stdout",
     "output_type": "stream",
     "text": [
      "type: letter\n",
      "Adresse destination: Paris\n",
      "Adresse expedition: Lille\n",
      "Poids: 80\n",
      "Mode d'envois: normal\n",
      "format: A4\n",
      "Prix du timbre: 0.28\n",
      "type: Colis\n",
      "Adresse destination: Barcelone\n",
      "Adresse expedition: Marrakeche\n",
      "Poids: 3500\n",
      "Mode d'envois: express\n",
      "Volume: 2.25\n",
      "Prix du timbre: 3937.5\n"
     ]
    }
   ],
   "source": [
    "class DeliveryObject:\n",
    "    def __init__(self,expeditionAddress,destinationAddress,weight,expeditionMode):\n",
    "        self.weight =weight\n",
    "        self.expeditionMode = expeditionMode\n",
    "        self.expeditionAddress= expeditionAddress  \n",
    "        self.destinationAddress= destinationAddress\n",
    "        \n",
    "        def toString(self):\n",
    "            pass\n",
    "        \n",
    "        \n",
    "    \n",
    "        \n",
    "class Parcel(DeliveryObject):\n",
    "    def __init__(self,expeditionAddress,destinationAddress,weight,expeditionMode,volume):\n",
    "        DeliveryObject.__init__(self,expeditionAddress,destinationAddress,weight,expeditionMode) \n",
    "        self.type= \"Colis\" \n",
    "        self.volume= volume\n",
    "        \n",
    "    def normalExpeditionCalcul(self):\n",
    "        amount = self.volume*(25/100)\n",
    "        return amount*self.weight\n",
    "        \n",
    "    def stampPrice(self):\n",
    "        amount = self.normalExpeditionCalcul()\n",
    "        if self.expeditionMode == \"normal\":\n",
    "            return str(amount)\n",
    "        else:\n",
    "            return str(amount*2)\n",
    "            \n",
    "    def toString(self):\n",
    "        print(\"type: \" + self.type+ \"\\n\"+\n",
    "              \"Adresse destination: \" + self.destinationAddress+\"\\n\"+\n",
    "              \"Adresse expedition: \" + self.expeditionAddress+\"\\n\"+\n",
    "              \"Poids: \" + str(round(self.weight,2))+\"\\n\"+\n",
    "              \"Mode d'envois: \" + self.expeditionMode+\"\\n\"+\n",
    "              \"Volume: \" + str(self.volume)+\"\\n\"+\n",
    "              \"Prix du timbre: \" + self.stampPrice())\n",
    "\n",
    "        \n",
    "class Letter(DeliveryObject):\n",
    "    def __init__(self,expeditionAddress,destinationAddress,weight,expeditionMode,letterFormat):\n",
    "        DeliveryObject.__init__(self,expeditionAddress,destinationAddress,weight,expeditionMode) \n",
    "        self.letterFormat= letterFormat\n",
    "        self.type= \"letter\" \n",
    "        \n",
    "    def normalExpeditionCalcul(self):\n",
    "        if self.letterFormat == \"A4\":\n",
    "            return 3.5*(self.weight/1000)\n",
    "        else:\n",
    "            return 4.5*(self.weight/1000)\n",
    "        \n",
    "    def stampPrice(self):\n",
    "        amount = self.normalExpeditionCalcul()\n",
    "        if self.expeditionMode == \"normal\":\n",
    "            return str(amount)\n",
    "        else:\n",
    "            return str(amount*2)\n",
    "            \n",
    "    def toString(self):\n",
    "        print(\"type: \" + self.type+ \"\\n\"+\n",
    "              \"Adresse destination: \" + self.destinationAddress+\"\\n\"+\n",
    "              \"Adresse expedition: \" + self.expeditionAddress+\"\\n\"+\n",
    "              \"Poids: \" + str(round(self.weight,2))+\"\\n\"+\n",
    "              \"Mode d'envois: \" + self.expeditionMode+\"\\n\"+\n",
    "              \"format: \" + self.letterFormat+\"\\n\"+\n",
    "              \"Prix du timbre: \" + self.stampPrice())\n",
    "       \n",
    "    \n",
    "L1=Letter(\"Lille\",\"Paris\",80,\"normal\",\"A4\")\n",
    "L1.toString()\n",
    "\n",
    "C1=Parcel(\"Marrakeche\",\"Barcelone\",3500,\"express\",2.25)\n",
    "C1.toString()"
   ]
  },
  {
   "cell_type": "code",
   "execution_count": null,
   "metadata": {},
   "outputs": [],
   "source": []
  }
 ],
 "metadata": {
  "colab": {
   "collapsed_sections": [],
   "name": "ObjetPython.ipynb",
   "provenance": []
  },
  "kernelspec": {
   "display_name": "Python 3",
   "language": "python",
   "name": "python3"
  },
  "language_info": {
   "codemirror_mode": {
    "name": "ipython",
    "version": 3
   },
   "file_extension": ".py",
   "mimetype": "text/x-python",
   "name": "python",
   "nbconvert_exporter": "python",
   "pygments_lexer": "ipython3",
   "version": "3.8.2"
  }
 },
 "nbformat": 4,
 "nbformat_minor": 1
}
